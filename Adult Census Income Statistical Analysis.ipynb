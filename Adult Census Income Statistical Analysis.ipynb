{
 "cells": [
  {
   "cell_type": "markdown",
   "id": "a58702a0",
   "metadata": {},
   "source": [
    "<h1><center>Analyzing the Adult Census Income Dataset: Insights and Techniques for Statistical Analysis.</center></h1>"
   ]
  },
  {
   "cell_type": "markdown",
   "id": "9d7197ac",
   "metadata": {},
   "source": [
    "### <center>Spring 2023</center>\n",
    "### <center>MA 541: Statistical Methods</center>\n",
    "### <center>Bhanoday Sakamuri</center>\n",
    "### <center>Project Supervisor: Dr. Hadi Safari Katesari</center>"
   ]
  },
  {
   "cell_type": "markdown",
   "id": "9117d14c",
   "metadata": {},
   "source": [
    "## <center>Abstract</center>\n",
    "\n",
    "This project analyzes the Adult Census Income dataset using various statistical techniques such as hypothesis testing, confidence intervals, ANOVA, categorical data analysis, comparing samples, nonparametric methods, logistic regression, resampling methods, bootstrap, model selection, LASSO, ridge regression, gam model and polynomial features. Results provide insights into the factors influencing income levels and the best techniques for analyzing such data. Techniques include testing hypotheses, calculating confidence intervals, comparing sample means, predicting events, selecting models, and identifying key variables. Overall, this study offers valuable information on income and statistical analysis methods."
   ]
  },
  {
   "cell_type": "markdown",
   "id": "e0c87f02",
   "metadata": {},
   "source": [
    "## <center>Chapter 1: Introduction</center>"
   ]
  },
  {
   "cell_type": "markdown",
   "id": "3e0b4e4a",
   "metadata": {},
   "source": [
    "The Adult Census Income dataset is a real-world dataset that has become a benchmark for evaluating machine learning algorithms for predicting income levels. The dataset contains various demographic and socioeconomic variables such as age, education, occupation, workclass, and marital status. The purpose of this project is to explore the dataset, analyze the relationships between variables, and build a predictive model that can accurately classify individuals into high or low income categories. The insights gained from this project can be used to identify the most significant factors that contribute to income inequality and to develop policies and programs to address this issue. The project will use a variety of statistical tests such as hypothesis testing, confidence intervals, ANOVA, categorical data analysis, and regression analysis to analyze the dataset and identify the relationships between variables.\n",
    "\n",
    "In order to build an accurate predictive model, the project will employ machine learning techniques such as logistic regression, LASSO, and ridge regression. These techniques are widely used in the field of data science and can effectively handle high-dimensional datasets such as the Adult Census Income dataset. The significance of this project lies in its potential to provide insights into income inequality and to help policymakers develop effective strategies to address this issue. Income inequality is a pressing issue in many countries, and understanding the factors that contribute to it is crucial for developing policies to reduce it.\n",
    "\n",
    "Furthermore, the project showcases the power of data-driven decision-making and the importance of utilizing statistical and machine learning techniques to extract insights from complex datasets. This project serves as an example of how data science can be used to address real-world problems and has implications for businesses, governments, and other organizations seeking to leverage data analytics for growth and innovation. Overall, this project aims to demonstrate the value of statistical analysis and predictive modeling in understanding complex datasets and providing insights into important societal issues such as income inequality. Through its use of a variety of statistical and machine learning techniques, this project will provide a comprehensive analysis of the Adult Census Income dataset and identify the most significant factors that contribute to income inequality."
   ]
  },
  {
   "cell_type": "markdown",
   "id": "ebfd569c",
   "metadata": {},
   "source": [
    "## <center>Chapter 2: Data Description</center>\n",
    "\n",
    "#### Link: https://www.kaggle.com/datasets/uciml/adult-census-income"
   ]
  },
  {
   "cell_type": "markdown",
   "id": "5b31beb7",
   "metadata": {},
   "source": [
    "The Adult Census Income dataset contains information about individuals from the 1994 United States Census. The dataset consists of 48,842 instances with 14 attributes, including the target variable \"income,\" which indicates whether an individual makes over 50k dollars per year or not. The dataset contains various demographic and socio-economic features such as age, education, workclass, occupation, marital status, race, gender, and native country. \n",
    "\n",
    "Here's a brief explanation of each feature:\n",
    "\n",
    "Age: continuous variable representing the age of the individual.\n",
    "\n",
    "Workclass: categorical variable indicating the type of employment, including private, self-employment, government, and others.\n",
    "\n",
    "Fnlwgt: continuous variable, represents the number of individuals the census believes the entry represents. This feature is not considered useful and is typically ignored.\n",
    "\n",
    "Education: categorical variable indicating the level of education achieved by the individual, ranging from 1st grade to a doctorate degree.\n",
    "\n",
    "Education num: continuous variable representing the number of years of education completed by the individual.\n",
    "\n",
    "Marital status: categorical variable indicating the marital status of the individual, such as married, divorced, separated, or never married.\n",
    "\n",
    "Occupation: categorical variable indicating the type of occupation, such as professional, technical, managerial, clerical, sales, etc.\n",
    "\n",
    "Relationship: categorical variable indicating the relationship status, such as husband, wife, unmarried, etc.\n",
    "\n",
    "Race: categorical variable indicating the individual's race, including White, Black, Asian-Pac-Islander, Amer-Indian-Eskimo, and Other.\n",
    "\n",
    "Sex: categorical variable indicating the individual's gender, either Male or Female.\n",
    "\n",
    "Capital gain: continuous variable indicating the individual's capital gains.\n",
    "\n",
    "Capital loss: continuous variable indicating the individual's capital losses.\n",
    "\n",
    "Hours per week: continuous variable indicating the number of hours worked per week.\n",
    "\n",
    "Native country: categorical variable indicating the individual's native country, including the United States, Mexico, Philippines, and others."
   ]
  },
  {
   "cell_type": "markdown",
   "id": "682ed773",
   "metadata": {},
   "source": [
    "###                                                          Import the required libraries"
   ]
  },
  {
   "cell_type": "code",
   "execution_count": 1,
   "id": "fb076371",
   "metadata": {},
   "outputs": [],
   "source": [
    "import numpy as np\n",
    "import pandas as pd\n",
    "import matplotlib.pyplot as plt \n",
    "import seaborn as sns\n",
    "import scipy.stats as stats\n",
    "from statsmodels.stats.weightstats import ztest\n",
    "from scipy.stats import zscore\n",
    "from scipy.stats import norm\n",
    "import statsmodels.stats.multicomp as mc\n",
    "from sklearn.model_selection import train_test_split\n",
    "from sklearn import preprocessing \n",
    "from sklearn.preprocessing import StandardScaler\n",
    "from sklearn.linear_model import LogisticRegression, LinearRegression\n",
    "from sklearn.metrics import accuracy_score, mean_squared_error, r2_score, precision_score, recall_score, f1_score, roc_auc_score, confusion_matrix\n",
    "from sklearn.preprocessing import PolynomialFeatures\n",
    "from pygam import LogisticGAM\n",
    "\n",
    "\n",
    "\n",
    "# Ignore warnings\n",
    "import warnings\n",
    "warnings.filterwarnings('ignore')"
   ]
  },
  {
   "cell_type": "markdown",
   "id": "04d05608",
   "metadata": {},
   "source": [
    "### Load the dataset into a pandas DataFrame"
   ]
  },
  {
   "cell_type": "code",
   "execution_count": 2,
   "id": "4e8f605d",
   "metadata": {},
   "outputs": [
    {
     "name": "stdout",
     "output_type": "stream",
     "text": [
      "Dataset imported successfully\n",
      "<class 'pandas.core.frame.DataFrame'>\n",
      "RangeIndex: 32561 entries, 0 to 32560\n",
      "Data columns (total 15 columns):\n",
      " #   Column          Non-Null Count  Dtype \n",
      "---  ------          --------------  ----- \n",
      " 0   age             32561 non-null  int64 \n",
      " 1   workclass       32561 non-null  object\n",
      " 2   fnlwgt          32561 non-null  int64 \n",
      " 3   education       32561 non-null  object\n",
      " 4   education.num   32561 non-null  int64 \n",
      " 5   marital.status  32561 non-null  object\n",
      " 6   occupation      32561 non-null  object\n",
      " 7   relationship    32561 non-null  object\n",
      " 8   race            32561 non-null  object\n",
      " 9   sex             32561 non-null  object\n",
      " 10  capital.gain    32561 non-null  int64 \n",
      " 11  capital.loss    32561 non-null  int64 \n",
      " 12  hours.per.week  32561 non-null  int64 \n",
      " 13  native.country  32561 non-null  object\n",
      " 14  income          32561 non-null  object\n",
      "dtypes: int64(6), object(9)\n",
      "memory usage: 3.7+ MB\n"
     ]
    }
   ],
   "source": [
    "df = pd.read_csv('adult.csv')\n",
    "print(\"Dataset imported successfully\")\n",
    "#View summary of dataframe\n",
    "df.info()"
   ]
  },
  {
   "cell_type": "markdown",
   "id": "e70323de",
   "metadata": {},
   "source": [
    "### Check shape of the dataset"
   ]
  },
  {
   "cell_type": "code",
   "execution_count": 3,
   "id": "e34f21f0",
   "metadata": {},
   "outputs": [
    {
     "name": "stdout",
     "output_type": "stream",
     "text": [
      "(32561, 15)\n"
     ]
    }
   ],
   "source": [
    "df_shape = df.shape\n",
    "print(df_shape)"
   ]
  },
  {
   "cell_type": "markdown",
   "id": "94cf433f",
   "metadata": {},
   "source": [
    "### Print column names"
   ]
  },
  {
   "cell_type": "code",
   "execution_count": 4,
   "id": "6bb50490",
   "metadata": {},
   "outputs": [
    {
     "name": "stdout",
     "output_type": "stream",
     "text": [
      "Index(['age', 'workclass', 'fnlwgt', 'education', 'education.num',\n",
      "       'marital.status', 'occupation', 'relationship', 'race', 'sex',\n",
      "       'capital.gain', 'capital.loss', 'hours.per.week', 'native.country',\n",
      "       'income'],\n",
      "      dtype='object')\n"
     ]
    }
   ],
   "source": [
    "df_columns = df.columns\n",
    "print(df_columns)"
   ]
  },
  {
   "cell_type": "code",
   "execution_count": 5,
   "id": "3d87f47b",
   "metadata": {},
   "outputs": [
    {
     "data": {
      "text/html": [
       "<div>\n",
       "<style scoped>\n",
       "    .dataframe tbody tr th:only-of-type {\n",
       "        vertical-align: middle;\n",
       "    }\n",
       "\n",
       "    .dataframe tbody tr th {\n",
       "        vertical-align: top;\n",
       "    }\n",
       "\n",
       "    .dataframe thead th {\n",
       "        text-align: right;\n",
       "    }\n",
       "</style>\n",
       "<table border=\"1\" class=\"dataframe\">\n",
       "  <thead>\n",
       "    <tr style=\"text-align: right;\">\n",
       "      <th></th>\n",
       "      <th>age</th>\n",
       "      <th>workclass</th>\n",
       "      <th>fnlwgt</th>\n",
       "      <th>education</th>\n",
       "      <th>education.num</th>\n",
       "      <th>marital.status</th>\n",
       "      <th>occupation</th>\n",
       "      <th>relationship</th>\n",
       "      <th>race</th>\n",
       "      <th>sex</th>\n",
       "      <th>capital.gain</th>\n",
       "      <th>capital.loss</th>\n",
       "      <th>hours.per.week</th>\n",
       "      <th>native.country</th>\n",
       "      <th>income</th>\n",
       "    </tr>\n",
       "  </thead>\n",
       "  <tbody>\n",
       "    <tr>\n",
       "      <th>0</th>\n",
       "      <td>90</td>\n",
       "      <td>?</td>\n",
       "      <td>77053</td>\n",
       "      <td>HS-grad</td>\n",
       "      <td>9</td>\n",
       "      <td>Widowed</td>\n",
       "      <td>?</td>\n",
       "      <td>Not-in-family</td>\n",
       "      <td>White</td>\n",
       "      <td>Female</td>\n",
       "      <td>0</td>\n",
       "      <td>4356</td>\n",
       "      <td>40</td>\n",
       "      <td>United-States</td>\n",
       "      <td>&lt;=50K</td>\n",
       "    </tr>\n",
       "    <tr>\n",
       "      <th>1</th>\n",
       "      <td>82</td>\n",
       "      <td>Private</td>\n",
       "      <td>132870</td>\n",
       "      <td>HS-grad</td>\n",
       "      <td>9</td>\n",
       "      <td>Widowed</td>\n",
       "      <td>Exec-managerial</td>\n",
       "      <td>Not-in-family</td>\n",
       "      <td>White</td>\n",
       "      <td>Female</td>\n",
       "      <td>0</td>\n",
       "      <td>4356</td>\n",
       "      <td>18</td>\n",
       "      <td>United-States</td>\n",
       "      <td>&lt;=50K</td>\n",
       "    </tr>\n",
       "    <tr>\n",
       "      <th>2</th>\n",
       "      <td>66</td>\n",
       "      <td>?</td>\n",
       "      <td>186061</td>\n",
       "      <td>Some-college</td>\n",
       "      <td>10</td>\n",
       "      <td>Widowed</td>\n",
       "      <td>?</td>\n",
       "      <td>Unmarried</td>\n",
       "      <td>Black</td>\n",
       "      <td>Female</td>\n",
       "      <td>0</td>\n",
       "      <td>4356</td>\n",
       "      <td>40</td>\n",
       "      <td>United-States</td>\n",
       "      <td>&lt;=50K</td>\n",
       "    </tr>\n",
       "    <tr>\n",
       "      <th>3</th>\n",
       "      <td>54</td>\n",
       "      <td>Private</td>\n",
       "      <td>140359</td>\n",
       "      <td>7th-8th</td>\n",
       "      <td>4</td>\n",
       "      <td>Divorced</td>\n",
       "      <td>Machine-op-inspct</td>\n",
       "      <td>Unmarried</td>\n",
       "      <td>White</td>\n",
       "      <td>Female</td>\n",
       "      <td>0</td>\n",
       "      <td>3900</td>\n",
       "      <td>40</td>\n",
       "      <td>United-States</td>\n",
       "      <td>&lt;=50K</td>\n",
       "    </tr>\n",
       "    <tr>\n",
       "      <th>4</th>\n",
       "      <td>41</td>\n",
       "      <td>Private</td>\n",
       "      <td>264663</td>\n",
       "      <td>Some-college</td>\n",
       "      <td>10</td>\n",
       "      <td>Separated</td>\n",
       "      <td>Prof-specialty</td>\n",
       "      <td>Own-child</td>\n",
       "      <td>White</td>\n",
       "      <td>Female</td>\n",
       "      <td>0</td>\n",
       "      <td>3900</td>\n",
       "      <td>40</td>\n",
       "      <td>United-States</td>\n",
       "      <td>&lt;=50K</td>\n",
       "    </tr>\n",
       "  </tbody>\n",
       "</table>\n",
       "</div>"
      ],
      "text/plain": [
       "   age workclass  fnlwgt     education  education.num marital.status  \\\n",
       "0   90         ?   77053       HS-grad              9        Widowed   \n",
       "1   82   Private  132870       HS-grad              9        Widowed   \n",
       "2   66         ?  186061  Some-college             10        Widowed   \n",
       "3   54   Private  140359       7th-8th              4       Divorced   \n",
       "4   41   Private  264663  Some-college             10      Separated   \n",
       "\n",
       "          occupation   relationship   race     sex  capital.gain  \\\n",
       "0                  ?  Not-in-family  White  Female             0   \n",
       "1    Exec-managerial  Not-in-family  White  Female             0   \n",
       "2                  ?      Unmarried  Black  Female             0   \n",
       "3  Machine-op-inspct      Unmarried  White  Female             0   \n",
       "4     Prof-specialty      Own-child  White  Female             0   \n",
       "\n",
       "   capital.loss  hours.per.week native.country income  \n",
       "0          4356              40  United-States  <=50K  \n",
       "1          4356              18  United-States  <=50K  \n",
       "2          4356              40  United-States  <=50K  \n",
       "3          3900              40  United-States  <=50K  \n",
       "4          3900              40  United-States  <=50K  "
      ]
     },
     "execution_count": 5,
     "metadata": {},
     "output_type": "execute_result"
    }
   ],
   "source": [
    "# Print first 5 rows of the dataset\n",
    "df.head()"
   ]
  },
  {
   "cell_type": "markdown",
   "id": "884d1384",
   "metadata": {},
   "source": [
    "In the dataset, the columns \"workclass,\" \"occupation,\" and \"native.country\" have some values of \"?\".\n",
    "This can be handled by filling in the missing values for the '?' fields with the mode of the appropriate columns."
   ]
  },
  {
   "cell_type": "markdown",
   "id": "a2a0b02f",
   "metadata": {},
   "source": [
    "### Handling missing values"
   ]
  },
  {
   "cell_type": "code",
   "execution_count": 6,
   "id": "029b678e",
   "metadata": {},
   "outputs": [],
   "source": [
    "df.replace('?', np.nan, inplace=True)\n",
    "\n",
    "# Fill missing values in 'workclass' column with mode\n",
    "mode_workclass = df['workclass'].mode()[0]\n",
    "df['workclass'].fillna(mode_workclass, inplace=True)\n",
    "\n",
    "# Fill missing values in 'occupation' column with mode\n",
    "mode_occupation = df['occupation'].mode()[0]\n",
    "df['occupation'].fillna(mode_occupation, inplace=True)\n",
    "\n",
    "# Fill missing values in 'native.country' column with mode\n",
    "mode_native_country = df['native.country'].mode()[0]\n",
    "df['native.country'].fillna(mode_native_country, inplace=True)"
   ]
  },
  {
   "cell_type": "code",
   "execution_count": 7,
   "id": "f7f1a92a",
   "metadata": {},
   "outputs": [
    {
     "data": {
      "text/plain": [
       "age               0\n",
       "workclass         0\n",
       "fnlwgt            0\n",
       "education         0\n",
       "education.num     0\n",
       "marital.status    0\n",
       "occupation        0\n",
       "relationship      0\n",
       "race              0\n",
       "sex               0\n",
       "capital.gain      0\n",
       "capital.loss      0\n",
       "hours.per.week    0\n",
       "native.country    0\n",
       "income            0\n",
       "dtype: int64"
      ]
     },
     "execution_count": 7,
     "metadata": {},
     "output_type": "execute_result"
    }
   ],
   "source": [
    "# Check for missing values again\n",
    "df.isnull().sum()"
   ]
  },
  {
   "cell_type": "code",
   "execution_count": 8,
   "id": "162dde23",
   "metadata": {},
   "outputs": [],
   "source": [
    "# Convert columns with numerical data to numeric data type\n",
    "numerical_cols = ['age', 'fnlwgt', 'education.num', 'capital.gain', 'capital.loss', 'hours.per.week']\n",
    "df[numerical_cols] = df[numerical_cols].apply(pd.to_numeric)"
   ]
  },
  {
   "cell_type": "code",
   "execution_count": 9,
   "id": "1755a1be",
   "metadata": {},
   "outputs": [],
   "source": [
    "# Drop unnecessary columns\n",
    "df.drop(['fnlwgt'], axis=1, inplace=True)"
   ]
  },
  {
   "cell_type": "markdown",
   "id": "ece28008",
   "metadata": {},
   "source": [
    "### Calculating correlation matrix"
   ]
  },
  {
   "cell_type": "code",
   "execution_count": 10,
   "id": "c8d3c50b",
   "metadata": {},
   "outputs": [
    {
     "name": "stdout",
     "output_type": "stream",
     "text": [
      "                     age  education.num  capital.gain  capital.loss  \\\n",
      "age             1.000000       0.036527      0.077674      0.057775   \n",
      "education.num   0.036527       1.000000      0.122630      0.079923   \n",
      "capital.gain    0.077674       0.122630      1.000000     -0.031615   \n",
      "capital.loss    0.057775       0.079923     -0.031615      1.000000   \n",
      "hours.per.week  0.068756       0.148123      0.078409      0.054256   \n",
      "\n",
      "                hours.per.week  \n",
      "age                   0.068756  \n",
      "education.num         0.148123  \n",
      "capital.gain          0.078409  \n",
      "capital.loss          0.054256  \n",
      "hours.per.week        1.000000  \n"
     ]
    }
   ],
   "source": [
    "corrmat = df.corr()\n",
    "print(corrmat)"
   ]
  },
  {
   "cell_type": "code",
   "execution_count": 11,
   "id": "29aec7a9",
   "metadata": {},
   "outputs": [
    {
     "data": {
      "text/plain": [
       "Text(0.5, 1.0, 'Correlation Heatmap')"
      ]
     },
     "execution_count": 11,
     "metadata": {},
     "output_type": "execute_result"
    },
    {
     "data": {
      "image/png": "[encoded data removed]",
      "text/plain": [
       "<Figure size 1080x360 with 2 Axes>"
      ]
     },
     "metadata": {
      "needs_background": "light"
     },
     "output_type": "display_data"
    }
   ],
   "source": [
    "plt.figure(figsize=(15,5))\n",
    "heatmap = sns.heatmap(corrmat, vmin=-1, vmax=1, annot=True)\n",
    "heatmap.set_title('Correlation Heatmap', fontdict={'fontsize':12}, pad=12)\n"
   ]
  },
  {
   "cell_type": "markdown",
   "id": "1b1c372b",
   "metadata": {},
   "source": [
    " ### Exploratory Data Analysis (EDA)"
   ]
  },
  {
   "cell_type": "code",
   "execution_count": 40,
   "id": "cc01005f",
   "metadata": {},
   "outputs": [
    {
     "data": {
      "image/png": "[encoded data removed]",
      "text/plain": [
       "<Figure size 432x288 with 1 Axes>"
      ]
     },
     "metadata": {
      "needs_background": "light"
     },
     "output_type": "display_data"
    },
    {
     "data": {
      "image/png": "[encoded data removed]",
      "text/plain": [
       "<Figure size 432x288 with 1 Axes>"
      ]
     },
     "metadata": {
      "needs_background": "light"
     },
     "output_type": "display_data"
    },
    {
     "data": {
      "image/png": "[encoded data removed]",
      "text/plain": [
       "<Figure size 432x288 with 1 Axes>"
      ]
     },
     "metadata": {
      "needs_background": "light"
     },
     "output_type": "display_data"
    }
   ],
   "source": [
    "# Visualize the distribution of income\n",
    "sns.countplot(x='income', data=df)\n",
    "plt.title('Distribution of Income')\n",
    "plt.xlabel('Income')\n",
    "plt.ylabel('Count')\n",
    "plt.show()\n",
    "\n",
    "# Visualize the distribution of age\n",
    "sns.histplot(df['age'], bins=20)\n",
    "plt.title('Distribution of Age')\n",
    "plt.xlabel('Age')\n",
    "plt.ylabel('Count')\n",
    "plt.show()\n",
    "\n",
    "# Visualize the income distribution by education level\n",
    "sns.countplot(x='education', hue='income', data=df)\n",
    "plt.title('Income Distribution by Education Level')\n",
    "plt.xlabel('Education Level')\n",
    "plt.ylabel('Count')\n",
    "plt.xticks(rotation=45)\n",
    "plt.legend(title='Income', loc='upper right')\n",
    "plt.show()\n"
   ]
  },
  {
   "cell_type": "code",
   "execution_count": 41,
   "id": "6aeebf8d",
   "metadata": {},
   "outputs": [
    {
     "data": {
      "image/png": "[encoded data removed]",
      "text/plain": [
       "<Figure size 432x288 with 1 Axes>"
      ]
     },
     "metadata": {
      "needs_background": "light"
     },
     "output_type": "display_data"
    },
    {
     "data": {
      "image/png": "[encoded data removed]",
      "text/plain": [
       "<Figure size 432x288 with 1 Axes>"
      ]
     },
     "metadata": {
      "needs_background": "light"
     },
     "output_type": "display_data"
    },
    {
     "data": {
      "image/png": "[encoded data removed]",
      "text/plain": [
       "<Figure size 432x288 with 1 Axes>"
      ]
     },
     "metadata": {
      "needs_background": "light"
     },
     "output_type": "display_data"
    }
   ],
   "source": [
    "# Visualize the income distribution by occupation\n",
    "sns.countplot(x='occupation', hue='income', data=df)\n",
    "plt.title('Income Distribution by Occupation')\n",
    "plt.xlabel('Occupation')\n",
    "plt.ylabel('Count')\n",
    "plt.xticks(rotation=45)\n",
    "plt.legend(title='Income', loc='upper right')\n",
    "plt.show()\n",
    "\n",
    "\n",
    "# Visualize the income distribution by race\n",
    "sns.countplot(x='race', hue='income', data=df)\n",
    "plt.title('Income Distribution by Race')\n",
    "plt.xlabel('Race')\n",
    "plt.ylabel('Count')\n",
    "plt.legend(title='Income', loc='upper right')\n",
    "plt.show()\n",
    "\n",
    "\n",
    "# Visualize the income distribution by workclass\n",
    "sns.countplot(x='workclass', hue='income', data=df)\n",
    "plt.title('Income Distribution by Workclass')\n",
    "plt.xlabel('Workclass')\n",
    "plt.ylabel('Count')\n",
    "plt.xticks(rotation=45)\n",
    "plt.legend(title='Income', loc='upper right')\n",
    "plt.show()\n",
    "\n"
   ]
  },
  {
   "cell_type": "markdown",
   "id": "a70e93fa",
   "metadata": {},
   "source": [
    "## <center>Chapter 3: Methodology </center>"
   ]
  },
  {
   "cell_type": "markdown",
   "id": "0e3ed222",
   "metadata": {},
   "source": [
    "##### Comparing Two Samples: \n",
    "Comparing two samples in statistical methods involves analyzing and testing for differences between two sets of data to determine if they come from the same population or different populations. It is a common technique used in hypothesis testing, experimental design, and data analysis. There are different techniques to use depending on the data and research question. Some commonly used methods include independent samples t-test, paired samples t-test, Mann-Whitney U test, Wilcoxon signed-rank test, chi-square test, and Fisher's exact test. It is important to choose the appropriate test and ensure that its assumptions are met."
   ]
  },
  {
   "cell_type": "markdown",
   "id": "20b55823",
   "metadata": {},
   "source": [
    "##### The Analysis of Variance:\n",
    "The Analysis of Variance (ANOVA) is a statistical method used to test whether there are any significant differences between the means of three or more groups. ]\n",
    "The ANOVA test produces an F-statistic and a corresponding p-value, which is used to determine whether the differences between the group means are statistically significant or simply due to chance. If the p-value is less than the significance level (typically 0.05), it is concluded that there are significant differences between the group means."
   ]
  },
  {
   "cell_type": "markdown",
   "id": "d553b008",
   "metadata": {},
   "source": [
    "##### The Analysis of Categorical Data:\n",
    "\n",
    "The analysis of categorical data involves techniques to analyze data that can be classified into distinct categories or groups, such as gender or educational level. Common techniques include frequency tables, bar charts, and pie charts, as well as statistical tests like the chi-square test and Fisher's exact test. Contingency tables and logistic regression are also commonly used to analyze categorical data. The choice of technique depends on the research question and the nature of the data.\n"
   ]
  },
  {
   "cell_type": "markdown",
   "id": "4662c20d",
   "metadata": {},
   "source": [
    "##### Linear Regression:\n",
    "Linear regression is a statistical analysis technique that is used to model the relationship between a dependent variable and one or more independent variables. The goal of linear regression is to find a linear equation that best predicts the value of the dependent variable based on the values of the independent variables.\n",
    "\n",
    "In a simple linear regression, there is only one independent variable, while in multiple linear regression, there are multiple independent variables. The equation for a simple linear regression model is given by:\n",
    "\n",
    "Y = β0 + β1X + ε\n",
    "\n",
    "where Y is the dependent variable, X is the independent variable, β0 is the intercept, β1 is the slope, and ε is the error term."
   ]
  },
  {
   "cell_type": "markdown",
   "id": "84ec3d60",
   "metadata": {},
   "source": [
    "##### Resampling Methods:\n",
    "Resampling refers to the process of repeatedly drawing samples from a given dataset and using these samples to estimate the properties of the population from which the original data was collected.\n",
    "Some common resampling techniques include:\n",
    "\n",
    "Cross-validation: A technique for assessing the performance of a predictive model by dividing the data into training and testing subsets and iteratively re-estimating the model on different subsets.\n",
    "\n",
    "Bootstrapping: A method for estimating the variability of a statistic by repeatedly sampling from the original dataset with replacement."
   ]
  },
  {
   "cell_type": "markdown",
   "id": "f2aa2a6e",
   "metadata": {},
   "source": [
    "##### Linear Model Selection and Regularization:\n",
    "Linear Model Selection and Regularization are statistical techniques used to improve the accuracy and interpretability of linear regression models. Model selection involves choosing the most important predictors to include in the model, while regularization involves adding constraints to the model to prevent overfitting. There are various methods for linear model selection such as forward selection, backward elimination, and stepwise selection. \n",
    "Forward selection starts with an empty model and adds features one by one based on their impact on the performance metric, while backward selection starts with a full model and eliminates the least important features iteratively.\n",
    "The most common regularization techniques are Lasso, Ridge, and Elastic Net regression."
   ]
  },
  {
   "cell_type": "markdown",
   "id": "2b4160e7",
   "metadata": {},
   "source": [
    "##### Moving Beyond Linearity:\n",
    "Moving Beyond Linearity refers to a set of statistical methods that can model nonlinear relationships between variables, rather than assuming a linear relationship as in traditional linear regression. These methods are used when the relationship between the dependent variable and the independent variables is not well captured by a straight line or a linear function. Moving Beyond Linearity methods include polynomial regression, splines, and generalized additive models (GAMs), among others. "
   ]
  },
  {
   "cell_type": "markdown",
   "id": "872fa0c7",
   "metadata": {},
   "source": [
    "## <center>Chapter 4: Analysis and Results</center> "
   ]
  },
  {
   "cell_type": "markdown",
   "id": "9959eb58",
   "metadata": {},
   "source": [
    "## <center>4.1 Comparing Two Samples</center>"
   ]
  },
  {
   "cell_type": "code",
   "execution_count": 13,
   "id": "03825778",
   "metadata": {},
   "outputs": [
    {
     "name": "stdout",
     "output_type": "stream",
     "text": [
      "['Private' 'State-gov' 'Federal-gov' 'Self-emp-not-inc' 'Self-emp-inc'\n",
      " 'Local-gov' 'Without-pay' 'Never-worked']\n"
     ]
    }
   ],
   "source": [
    "print(df['workclass'].unique())\n"
   ]
  },
  {
   "cell_type": "markdown",
   "id": "7d0d6349",
   "metadata": {},
   "source": [
    "Consider two samples with Sample1 as Local-government and sample2 as State-government capital loss in USD whose race is White."
   ]
  },
  {
   "cell_type": "code",
   "execution_count": 14,
   "id": "e3d17ae3",
   "metadata": {},
   "outputs": [
    {
     "name": "stdout",
     "output_type": "stream",
     "text": [
      "Sample 1 size: 1720\n",
      "Sample 2 size: 1062\n",
      "118.38662790697674\n",
      "92.32580037664783\n"
     ]
    }
   ],
   "source": [
    "# Select two random samples from the dataset\n",
    "sample1 = df[(df['workclass'] == 'Local-gov') & (df['race'] == 'White')]['capital.loss']\n",
    "sample2 = df[(df['workclass'] == 'State-gov') & (df['race'] == 'White')]['capital.loss']\n",
    "print(\"Sample 1 size:\", len(sample1))\n",
    "print(\"Sample 2 size:\", len(sample2))\n",
    "print(sample1.mean())\n",
    "print(sample2.mean())\n"
   ]
  },
  {
   "cell_type": "markdown",
   "id": "17e23306",
   "metadata": {},
   "source": [
    "Since number of samples>30 here we can use Z test"
   ]
  },
  {
   "cell_type": "markdown",
   "id": "239ab00f",
   "metadata": {},
   "source": [
    "### Performing Z-test"
   ]
  },
  {
   "cell_type": "code",
   "execution_count": 15,
   "id": "e5638191",
   "metadata": {},
   "outputs": [
    {
     "name": "stdout",
     "output_type": "stream",
     "text": [
      "Z-test = 1.5149601114639213\n",
      "P-value = 0.12978250593355953\n",
      "H0: The means of the two groups are equal\n",
      "H1: The means of the two groups are not equal\n",
      "Fail to reject H0. The means of the two groups are equal.\n"
     ]
    }
   ],
   "source": [
    "z_test, p_value = ztest(sample1, sample2, value=0)\n",
    "print(\"Z-test =\", z_test)\n",
    "print('P-value =', p_value)\n",
    "print('H0: The means of the two groups are equal')\n",
    "print('H1: The means of the two groups are not equal')\n",
    "if p_value > 0.05:\n",
    "    print('Fail to reject H0. The means of the two groups are equal.')\n",
    "else:\n",
    "    print('Reject H0. The means of the two groups are not equal.')"
   ]
  },
  {
   "cell_type": "markdown",
   "id": "ae82dd2a",
   "metadata": {},
   "source": [
    "## <center>4.2 The Analysis of Variance</center>"
   ]
  },
  {
   "cell_type": "code",
   "execution_count": 16,
   "id": "53f643b5",
   "metadata": {},
   "outputs": [],
   "source": [
    "white = df[df['race'] == 'White']['capital.loss']\n",
    "black = df[df['race'] == 'Black']['capital.loss']\n",
    "asian_pac = df[df['race'] == 'Asian-Pac-Islander']['capital.loss']\n",
    "amer_indian = df[df['race'] == 'Amer-Indian-Eskimo']['capital.loss']\n",
    "other = df[df['race'] == 'Other']['capital.loss']\n",
    "f_test, p_value = stats.f_oneway(white, black, asian_pac, amer_indian, other)\n"
   ]
  },
  {
   "cell_type": "code",
   "execution_count": 17,
   "id": "6605af61",
   "metadata": {},
   "outputs": [
    {
     "name": "stdout",
     "output_type": "stream",
     "text": [
      "H0: The means of the Race groups are equal\n",
      "H1: The means of the Race groups are not equal\n",
      "\n",
      "F-statistic = 5.810007129466273 , p-value = 0.0001137802258227957\n",
      "Reject H0. The means of the Race-levels are not equal.\n"
     ]
    }
   ],
   "source": [
    "print('H0: The means of the Race groups are equal')\n",
    "print('H1: The means of the Race groups are not equal')\n",
    "print('\\nF-statistic =', f_test, ', p-value =', p_value)\n",
    "if p_value > 0.05:\n",
    "     print('Fail to reject H0. The means of the Race groups are equal.')\n",
    "else:\n",
    "     print('Reject H0. The means of the Race-levels are not equal.')"
   ]
  },
  {
   "cell_type": "markdown",
   "id": "d333e6a9",
   "metadata": {},
   "source": [
    "#### We can see that The means of the Race levels are not equal. So, we perform Tukey's test to identify which pairs of group means are significantly different from each other."
   ]
  },
  {
   "cell_type": "markdown",
   "id": "35313329",
   "metadata": {},
   "source": [
    "### Performing Tukey's test"
   ]
  },
  {
   "cell_type": "code",
   "execution_count": 18,
   "id": "2701c10a",
   "metadata": {},
   "outputs": [
    {
     "name": "stdout",
     "output_type": "stream",
     "text": [
      "              Multiple Comparison of Means - Tukey HSD, FWER=0.05              \n",
      "===============================================================================\n",
      "      group1             group2       meandiff p-adj    lower    upper   reject\n",
      "-------------------------------------------------------------------------------\n",
      "Amer-Indian-Eskimo Asian-Pac-Islander  63.0455 0.1097   -7.9845 134.0755  False\n",
      "Amer-Indian-Eskimo              Black  26.2082 0.7844  -39.1335    91.55  False\n",
      "Amer-Indian-Eskimo              Other  26.8933    0.9  -64.4254  118.212  False\n",
      "Amer-Indian-Eskimo              White  56.6293 0.0986   -6.0317 119.2903  False\n",
      "Asian-Pac-Islander              Black -36.8372 0.0795  -76.1925    2.518  False\n",
      "Asian-Pac-Islander              Other -36.1522 0.6587 -111.1082  38.8038  False\n",
      "Asian-Pac-Islander              White  -6.4162    0.9  -41.1393  28.3069  False\n",
      "             Black              Other    0.685    0.9  -68.9043  70.2744  False\n",
      "             Black              White  30.4211  0.001    9.6853  51.1569   True\n",
      "             Other              White   29.736 0.7191  -37.3425  96.8146  False\n",
      "-------------------------------------------------------------------------------\n"
     ]
    }
   ],
   "source": [
    "tukey_result = mc.MultiComparison(df['capital.loss'], df['race']).tukeyhsd()\n",
    "\n",
    "# Print Tukey's test results\n",
    "print(tukey_result)"
   ]
  },
  {
   "cell_type": "markdown",
   "id": "68f153fa",
   "metadata": {},
   "source": [
    "#### The results of Tukey's test indicate significant differences in means between Amer-Indian-Eskimo and White groups, Asian-Pac-Islander and Black groups, and Black and White groups, but no significant differences in means between the other group pairs."
   ]
  },
  {
   "cell_type": "markdown",
   "id": "c7363f15",
   "metadata": {},
   "source": [
    "## <center>4.3 The Analysis of Categorical data</center> "
   ]
  },
  {
   "cell_type": "code",
   "execution_count": 19,
   "id": "abf6d7c9",
   "metadata": {},
   "outputs": [
    {
     "name": "stdout",
     "output_type": "stream",
     "text": [
      "sex                 Female   Male\n",
      "race                             \n",
      "Amer-Indian-Eskimo     119    192\n",
      "Asian-Pac-Islander     346    693\n",
      "Black                 1555   1569\n",
      "Other                  109    162\n",
      "White                 8642  19174\n"
     ]
    }
   ],
   "source": [
    "# create a contingency table of race and sex\n",
    "cont_table = pd.crosstab(df['race'], df['sex'])\n",
    "print(cont_table)"
   ]
  },
  {
   "cell_type": "markdown",
   "id": "1b00d5b2",
   "metadata": {},
   "source": [
    "### Performing chi-square test"
   ]
  },
  {
   "cell_type": "code",
   "execution_count": 20,
   "id": "9c687a44",
   "metadata": {},
   "outputs": [
    {
     "name": "stdout",
     "output_type": "stream",
     "text": [
      "Chi-square statistic = 454.2671089131088\n",
      "Degrees of freedom = 4\n",
      "P-value = 5.192061302760456e-97\n",
      "Expected Frequenices: \n",
      " [[  102.87709223   208.12290777]\n",
      " [  343.69549461   695.30450539]\n",
      " [ 1033.40204539  2090.59795461]\n",
      " [   89.64531188   181.35468812]\n",
      " [ 9201.3800559  18614.6199441 ]]\n",
      "Reject the null hypothesis. There is a significant association between race and sex.\n"
     ]
    }
   ],
   "source": [
    "chi2_stat, p_val, dof, ex = stats.chi2_contingency(cont_table)\n",
    "\n",
    "# print results\n",
    "print('Chi-square statistic =', chi2_stat)\n",
    "print('Degrees of freedom =', dof)\n",
    "print('P-value =', p_val)\n",
    "print('Expected Frequenices: \\n', ex)\n",
    "# interpret results\n",
    "alpha = 0.05\n",
    "if p_val < alpha:\n",
    "    print('Reject the null hypothesis. There is a significant association between race and sex.')\n",
    "else:\n",
    "    print('Fail to reject the null hypothesis. There is no significant association between race and sex.')\n"
   ]
  },
  {
   "cell_type": "markdown",
   "id": "61d9288c",
   "metadata": {},
   "source": [
    "#### The output of the chi-square test suggests that there is a significant association between race and sex in the adult census income dataset. "
   ]
  },
  {
   "cell_type": "markdown",
   "id": "2e7ba344",
   "metadata": {},
   "source": [
    "##  <center>4.4 Linear Regression</center>"
   ]
  },
  {
   "cell_type": "markdown",
   "id": "90eada1d",
   "metadata": {},
   "source": [
    "### Converting the target variable 'income' to binary 0/1"
   ]
  },
  {
   "cell_type": "code",
   "execution_count": 21,
   "id": "4f902736",
   "metadata": {},
   "outputs": [
    {
     "data": {
      "text/plain": [
       "0    0\n",
       "1    0\n",
       "2    0\n",
       "3    0\n",
       "4    0\n",
       "Name: income, dtype: int64"
      ]
     },
     "execution_count": 21,
     "metadata": {},
     "output_type": "execute_result"
    }
   ],
   "source": [
    "df['income'] = df['income'].apply(lambda x: 0 if x == '<=50K' else 1)\n",
    "df['income'].head()"
   ]
  },
  {
   "cell_type": "markdown",
   "id": "6d7b667d",
   "metadata": {},
   "source": [
    "### Split the dataset into training and testing sets"
   ]
  },
  {
   "cell_type": "code",
   "execution_count": 22,
   "id": "a45d0daf",
   "metadata": {},
   "outputs": [],
   "source": [
    "X = df.drop(['income'], axis=1)\n",
    "\n",
    "y = df['income']\n",
    "\n",
    "X_train, X_test, y_train, y_test = train_test_split(X, y, test_size = 0.3, random_state = 0)"
   ]
  },
  {
   "cell_type": "markdown",
   "id": "e215efe6",
   "metadata": {},
   "source": [
    "### Converting categorical variables to numerical variables using LabelEncoder()"
   ]
  },
  {
   "cell_type": "code",
   "execution_count": 23,
   "id": "0dea9628",
   "metadata": {},
   "outputs": [],
   "source": [
    "categorical = ['workclass', 'education', 'marital.status', 'occupation', 'relationship', 'race', 'sex', 'native.country']\n",
    "for feature in categorical:\n",
    "        le = preprocessing.LabelEncoder()\n",
    "        X_train[feature] = le.fit_transform(X_train[feature])\n",
    "        X_test[feature] = le.transform(X_test[feature])"
   ]
  },
  {
   "cell_type": "markdown",
   "id": "175a195f",
   "metadata": {},
   "source": [
    "### Scale the data using StandardScaler()"
   ]
  },
  {
   "cell_type": "code",
   "execution_count": 24,
   "id": "19e89754",
   "metadata": {},
   "outputs": [],
   "source": [
    "scaler = StandardScaler()\n",
    "\n",
    "X_train = pd.DataFrame(scaler.fit_transform(X_train), columns = X.columns)\n",
    "\n",
    "X_test = pd.DataFrame(scaler.transform(X_test), columns = X.columns)"
   ]
  },
  {
   "cell_type": "code",
   "execution_count": 25,
   "id": "f522ac9d",
   "metadata": {},
   "outputs": [
    {
     "data": {
      "text/html": [
       "<div>\n",
       "<style scoped>\n",
       "    .dataframe tbody tr th:only-of-type {\n",
       "        vertical-align: middle;\n",
       "    }\n",
       "\n",
       "    .dataframe tbody tr th {\n",
       "        vertical-align: top;\n",
       "    }\n",
       "\n",
       "    .dataframe thead th {\n",
       "        text-align: right;\n",
       "    }\n",
       "</style>\n",
       "<table border=\"1\" class=\"dataframe\">\n",
       "  <thead>\n",
       "    <tr style=\"text-align: right;\">\n",
       "      <th></th>\n",
       "      <th>age</th>\n",
       "      <th>workclass</th>\n",
       "      <th>education</th>\n",
       "      <th>education.num</th>\n",
       "      <th>marital.status</th>\n",
       "      <th>occupation</th>\n",
       "      <th>relationship</th>\n",
       "      <th>race</th>\n",
       "      <th>sex</th>\n",
       "      <th>capital.gain</th>\n",
       "      <th>capital.loss</th>\n",
       "      <th>hours.per.week</th>\n",
       "      <th>native.country</th>\n",
       "    </tr>\n",
       "  </thead>\n",
       "  <tbody>\n",
       "    <tr>\n",
       "      <th>0</th>\n",
       "      <td>0.101484</td>\n",
       "      <td>2.600478</td>\n",
       "      <td>-0.332263</td>\n",
       "      <td>1.133894</td>\n",
       "      <td>-0.402341</td>\n",
       "      <td>-0.782234</td>\n",
       "      <td>2.214196</td>\n",
       "      <td>0.39298</td>\n",
       "      <td>-1.430470</td>\n",
       "      <td>-0.145189</td>\n",
       "      <td>-0.217407</td>\n",
       "      <td>-1.662414</td>\n",
       "      <td>0.262317</td>\n",
       "    </tr>\n",
       "    <tr>\n",
       "      <th>1</th>\n",
       "      <td>0.028248</td>\n",
       "      <td>-1.884720</td>\n",
       "      <td>0.184396</td>\n",
       "      <td>-0.423425</td>\n",
       "      <td>-0.402341</td>\n",
       "      <td>-0.026696</td>\n",
       "      <td>-0.899410</td>\n",
       "      <td>0.39298</td>\n",
       "      <td>0.699071</td>\n",
       "      <td>-0.145189</td>\n",
       "      <td>-0.217407</td>\n",
       "      <td>-0.200753</td>\n",
       "      <td>0.262317</td>\n",
       "    </tr>\n",
       "    <tr>\n",
       "      <th>2</th>\n",
       "      <td>0.247956</td>\n",
       "      <td>-0.090641</td>\n",
       "      <td>1.217715</td>\n",
       "      <td>-0.034095</td>\n",
       "      <td>0.926666</td>\n",
       "      <td>-0.782234</td>\n",
       "      <td>-0.276689</td>\n",
       "      <td>0.39298</td>\n",
       "      <td>-1.430470</td>\n",
       "      <td>-0.145189</td>\n",
       "      <td>-0.217407</td>\n",
       "      <td>-0.038346</td>\n",
       "      <td>0.262317</td>\n",
       "    </tr>\n",
       "    <tr>\n",
       "      <th>3</th>\n",
       "      <td>-0.850587</td>\n",
       "      <td>-1.884720</td>\n",
       "      <td>0.184396</td>\n",
       "      <td>-0.423425</td>\n",
       "      <td>0.926666</td>\n",
       "      <td>-0.530388</td>\n",
       "      <td>0.968753</td>\n",
       "      <td>0.39298</td>\n",
       "      <td>0.699071</td>\n",
       "      <td>-0.145189</td>\n",
       "      <td>-0.217407</td>\n",
       "      <td>-0.038346</td>\n",
       "      <td>0.262317</td>\n",
       "    </tr>\n",
       "    <tr>\n",
       "      <th>4</th>\n",
       "      <td>-0.044989</td>\n",
       "      <td>-2.781760</td>\n",
       "      <td>0.442726</td>\n",
       "      <td>1.523223</td>\n",
       "      <td>-0.402341</td>\n",
       "      <td>-0.782234</td>\n",
       "      <td>-0.899410</td>\n",
       "      <td>0.39298</td>\n",
       "      <td>0.699071</td>\n",
       "      <td>-0.145189</td>\n",
       "      <td>-0.217407</td>\n",
       "      <td>-0.038346</td>\n",
       "      <td>0.262317</td>\n",
       "    </tr>\n",
       "  </tbody>\n",
       "</table>\n",
       "</div>"
      ],
      "text/plain": [
       "        age  workclass  education  education.num  marital.status  occupation  \\\n",
       "0  0.101484   2.600478  -0.332263       1.133894       -0.402341   -0.782234   \n",
       "1  0.028248  -1.884720   0.184396      -0.423425       -0.402341   -0.026696   \n",
       "2  0.247956  -0.090641   1.217715      -0.034095        0.926666   -0.782234   \n",
       "3 -0.850587  -1.884720   0.184396      -0.423425        0.926666   -0.530388   \n",
       "4 -0.044989  -2.781760   0.442726       1.523223       -0.402341   -0.782234   \n",
       "\n",
       "   relationship     race       sex  capital.gain  capital.loss  \\\n",
       "0      2.214196  0.39298 -1.430470     -0.145189     -0.217407   \n",
       "1     -0.899410  0.39298  0.699071     -0.145189     -0.217407   \n",
       "2     -0.276689  0.39298 -1.430470     -0.145189     -0.217407   \n",
       "3      0.968753  0.39298  0.699071     -0.145189     -0.217407   \n",
       "4     -0.899410  0.39298  0.699071     -0.145189     -0.217407   \n",
       "\n",
       "   hours.per.week  native.country  \n",
       "0       -1.662414        0.262317  \n",
       "1       -0.200753        0.262317  \n",
       "2       -0.038346        0.262317  \n",
       "3       -0.038346        0.262317  \n",
       "4       -0.038346        0.262317  "
      ]
     },
     "execution_count": 25,
     "metadata": {},
     "output_type": "execute_result"
    }
   ],
   "source": [
    "X_train.head()"
   ]
  },
  {
   "cell_type": "markdown",
   "id": "215675aa",
   "metadata": {},
   "source": [
    "### Linear Regression"
   ]
  },
  {
   "cell_type": "code",
   "execution_count": 26,
   "id": "9abbdd66",
   "metadata": {},
   "outputs": [],
   "source": [
    "linreg = LinearRegression()\n",
    "linreg.fit(X_train,y_train)\n",
    "y_pred = linreg.predict(X_test)\n",
    "mse = mean_squared_error(y_test,y_pred)\n",
    "r2sq = r2_score(y_test,y_pred)"
   ]
  },
  {
   "cell_type": "code",
   "execution_count": 27,
   "id": "4236fcff",
   "metadata": {},
   "outputs": [
    {
     "name": "stdout",
     "output_type": "stream",
     "text": [
      "Mean Squared Error:  0.13562293520217433\n",
      "R2 Score:  0.2595645393426095\n"
     ]
    }
   ],
   "source": [
    "print('Mean Squared Error: ', mse)\n",
    "print('R2 Score: ', r2sq)"
   ]
  },
  {
   "cell_type": "markdown",
   "id": "0f5a5e32",
   "metadata": {},
   "source": [
    "The R2 score is 0.2596, which is a quite low value, as can be seen. This means that the model is not able to explain a large portion of the variance in the dependent variable. As the target varibale is Categorocal, the logistic regression model performs better than the linear regression model."
   ]
  },
  {
   "cell_type": "markdown",
   "id": "2a6031cd",
   "metadata": {},
   "source": [
    "### Logistic Regression"
   ]
  },
  {
   "cell_type": "code",
   "execution_count": 28,
   "id": "25cb82dc",
   "metadata": {},
   "outputs": [
    {
     "name": "stdout",
     "output_type": "stream",
     "text": [
      "Logistic Regression accuracy score with all the features: 0.8215\n"
     ]
    }
   ],
   "source": [
    "logreg = LogisticRegression()\n",
    "logreg.fit(X_train, y_train)\n",
    "y_pred = logreg.predict(X_test)\n",
    "\n",
    "print('Logistic Regression accuracy score with all the features: {0:0.4f}'. format(accuracy_score(y_test, y_pred)))"
   ]
  },
  {
   "cell_type": "code",
   "execution_count": 30,
   "id": "6aef1f27",
   "metadata": {},
   "outputs": [
    {
     "name": "stdout",
     "output_type": "stream",
     "text": [
      "Accuracy: 0.8214760978605794\n",
      "Precision: 0.7125086385625432\n",
      "Recall: 0.437049597286986\n",
      "F1 Score: 0.5417761429322123\n",
      "ROC AUC Score: 0.6904546232048966\n"
     ]
    }
   ],
   "source": [
    "# Compute evaluation metrics\n",
    "accuracy = accuracy_score(y_test, y_pred)\n",
    "precision = precision_score(y_test, y_pred, pos_label=1)\n",
    "recall = recall_score(y_test, y_pred, pos_label=1)\n",
    "f1 = f1_score(y_test, y_pred, pos_label=1)\n",
    "roc_auc = roc_auc_score(y_test, y_pred)\n",
    "\n",
    "# Print the evaluation metrics\n",
    "print(\"Accuracy:\", accuracy)\n",
    "print(\"Precision:\", precision)\n",
    "print(\"Recall:\", recall)\n",
    "print(\"F1 Score:\", f1)\n",
    "print(\"ROC AUC Score:\", roc_auc)"
   ]
  },
  {
   "cell_type": "markdown",
   "id": "bf01529c",
   "metadata": {},
   "source": [
    "The output Logistic Regression indicates that the logistic regression model achieved an accuracy of 0.8215 (or 82.15%) on the test set when using all the available features. This means that the model correctly predicted the output label for 82.15% of the instances in the test set. Therefore the Logistic Regression model produces better results compared to the Linear Regression"
   ]
  },
  {
   "cell_type": "markdown",
   "id": "f765abd3",
   "metadata": {},
   "source": [
    "## <center>4.5 Resampling Methods</center>"
   ]
  },
  {
   "cell_type": "markdown",
   "id": "d3157a03",
   "metadata": {},
   "source": [
    "### Cross Validation"
   ]
  },
  {
   "cell_type": "code",
   "execution_count": 31,
   "id": "97adb139",
   "metadata": {},
   "outputs": [
    {
     "name": "stdout",
     "output_type": "stream",
     "text": [
      "Cross-validation scores: [0.82280702 0.83903509 0.82316806 0.82492321 0.83194384 0.82887231\n",
      " 0.81790259 0.82316806 0.82799473 0.82229048]\n",
      "Average Accuracy: 0.826210537862867\n"
     ]
    }
   ],
   "source": [
    "import pandas as pd\n",
    "from sklearn.linear_model import LogisticRegression\n",
    "from sklearn.model_selection import cross_val_score\n",
    "\n",
    "# Initialize the logistic regression model\n",
    "logreg = LogisticRegression()\n",
    "\n",
    "# Perform 10-fold cross-validation\n",
    "scores = cross_val_score(logreg, X_train, y_train, cv=10)\n",
    "print(f\"Cross-validation scores: {scores}\")\n",
    "# Print the average accuracy score across all folds\n",
    "print(\"Average Accuracy:\", scores.mean())\n"
   ]
  },
  {
   "cell_type": "markdown",
   "id": "54bad139",
   "metadata": {},
   "source": [
    "### Bootsrap"
   ]
  },
  {
   "cell_type": "code",
   "execution_count": 53,
   "id": "1e7688c3",
   "metadata": {},
   "outputs": [
    {
     "name": "stdout",
     "output_type": "stream",
     "text": [
      "Bootstrap Mean Accuracy:  0.8214760978605795\n",
      "95% Confidence Interval: [0.82, 0.82]\n"
     ]
    }
   ],
   "source": [
    "# define a function to generate a bootstrap sample\n",
    "def generate_bootstrap_sample(data):\n",
    "    return np.random.choice(data, size=len(data))\n",
    "\n",
    "# define a function to calculate bootstrap accuracy\n",
    "def bootstrap_accuracy(data, model, n_samples):\n",
    "    accuracies = []\n",
    "    for i in range(n_samples):\n",
    "        # generate a bootstrap sample\n",
    "        \n",
    "        # fit a logistic regression model on the bootstrap sample\n",
    "        model_bs = LogisticRegression(random_state=42)\n",
    "        model_bs.fit(X_train, y_train)\n",
    "        # evaluate the model's performance on the testing set\n",
    "        y_pred = model_bs.predict(X_test)\n",
    "        accuracy_bs = accuracy_score(y_test, y_pred)\n",
    "        accuracies.append(accuracy_bs)\n",
    "    # calculate the mean accuracy and 95% confidence interval\n",
    "    mean_accuracy = np.mean(accuracies)\n",
    "    ci = np.percentile(accuracies, [2.5, 97.5])\n",
    "    return mean_accuracy, ci\n",
    "\n",
    "# calculate the bootstrap accuracy\n",
    "mean_accuracy, ci = bootstrap_accuracy(df, logreg, 100)\n",
    "print(\"Bootstrap Mean Accuracy: \",mean_accuracy)\n",
    "print(\"95% Confidence Interval: [{:.2f}, {:.2f}]\".format(ci[0], ci[1]))\n"
   ]
  },
  {
   "cell_type": "markdown",
   "id": "64e275eb",
   "metadata": {},
   "source": [
    "## <center>4.6 Linear Model Selection and Regularization</center> "
   ]
  },
  {
   "cell_type": "markdown",
   "id": "da3ef3ff",
   "metadata": {},
   "source": [
    "### Forward Stepwise Selection"
   ]
  },
  {
   "cell_type": "code",
   "execution_count": 33,
   "id": "68bef0d6",
   "metadata": {},
   "outputs": [
    {
     "name": "stderr",
     "output_type": "stream",
     "text": [
      "[Parallel(n_jobs=1)]: Using backend SequentialBackend with 1 concurrent workers.\n",
      "[Parallel(n_jobs=1)]: Done   1 out of   1 | elapsed:    0.0s remaining:    0.0s\n",
      "[Parallel(n_jobs=1)]: Done  13 out of  13 | elapsed:    0.7s finished\n",
      "\n",
      "[2023-05-01 13:29:58] Features: 1/6 -- score: 0.7995785162234968[Parallel(n_jobs=1)]: Using backend SequentialBackend with 1 concurrent workers.\n",
      "[Parallel(n_jobs=1)]: Done   1 out of   1 | elapsed:    0.0s remaining:    0.0s\n",
      "[Parallel(n_jobs=1)]: Done  12 out of  12 | elapsed:    1.1s finished\n",
      "\n",
      "[2023-05-01 13:29:59] Features: 2/6 -- score: 0.8105915893235789[Parallel(n_jobs=1)]: Using backend SequentialBackend with 1 concurrent workers.\n",
      "[Parallel(n_jobs=1)]: Done   1 out of   1 | elapsed:    0.0s remaining:    0.0s\n",
      "[Parallel(n_jobs=1)]: Done  11 out of  11 | elapsed:    1.2s finished\n",
      "\n",
      "[2023-05-01 13:30:00] Features: 3/6 -- score: 0.8125657930766055[Parallel(n_jobs=1)]: Using backend SequentialBackend with 1 concurrent workers.\n",
      "[Parallel(n_jobs=1)]: Done   1 out of   1 | elapsed:    0.0s remaining:    0.0s\n",
      "[Parallel(n_jobs=1)]: Done  10 out of  10 | elapsed:    1.2s finished\n",
      "\n",
      "[2023-05-01 13:30:02] Features: 4/6 -- score: 0.8218672716865829[Parallel(n_jobs=1)]: Using backend SequentialBackend with 1 concurrent workers.\n",
      "[Parallel(n_jobs=1)]: Done   1 out of   1 | elapsed:    0.0s remaining:    0.0s\n",
      "[Parallel(n_jobs=1)]: Done   9 out of   9 | elapsed:    1.1s finished\n",
      "\n",
      "[2023-05-01 13:30:03] Features: 5/6 -- score: 0.8228763611335982[Parallel(n_jobs=1)]: Using backend SequentialBackend with 1 concurrent workers.\n",
      "[Parallel(n_jobs=1)]: Done   1 out of   1 | elapsed:    0.0s remaining:    0.0s\n"
     ]
    },
    {
     "name": "stdout",
     "output_type": "stream",
     "text": [
      "Selected feature indices: (3, 6, 8, 9, 10, 11)\n",
      "Selected feature names: Index(['education.num', 'relationship', 'sex', 'capital.gain', 'capital.loss',\n",
      "       'hours.per.week'],\n",
      "      dtype='object')\n",
      "Accuracy score on the testing data: 82.46%\n"
     ]
    },
    {
     "name": "stderr",
     "output_type": "stream",
     "text": [
      "[Parallel(n_jobs=1)]: Done   8 out of   8 | elapsed:    1.0s finished\n",
      "\n",
      "[2023-05-01 13:30:04] Features: 6/6 -- score: 0.8282730031421677"
     ]
    }
   ],
   "source": [
    "from mlxtend.feature_selection import SequentialFeatureSelector as SFS\n",
    "from sklearn.linear_model import LogisticRegression\n",
    "from sklearn.metrics import accuracy_score\n",
    "from sklearn.preprocessing import StandardScaler\n",
    "\n",
    "\n",
    "# Scale the training and testing sets\n",
    "scaler = StandardScaler()\n",
    "X_train_scaled = scaler.fit_transform(X_train)\n",
    "X_test_scaled = scaler.transform(X_test)\n",
    "\n",
    "# Instantiate a logistic regression model\n",
    "logreg = LogisticRegression()\n",
    "\n",
    "# Use sequential feature selector to perform forward stepwise selection\n",
    "sfs = SFS(logreg, \n",
    "          k_features=6, \n",
    "          forward=True, \n",
    "          floating=False, \n",
    "          verbose=2, \n",
    "          scoring='accuracy',\n",
    "          cv=5)\n",
    "\n",
    "# Train the sequential feature selector on the scaled training data\n",
    "sfs.fit(X_train_scaled, y_train)\n",
    "\n",
    "# Print the selected feature indices and names\n",
    "print(\"Selected feature indices:\", sfs.k_feature_idx_)\n",
    "print(\"Selected feature names:\", X.columns[list(sfs.k_feature_idx_)])\n",
    "\n",
    "# Train a logistic regression model on the selected features\n",
    "logreg_selected = LogisticRegression()\n",
    "logreg_selected.fit(X_train_scaled[:, list(sfs.k_feature_idx_)], y_train)\n",
    "\n",
    "# Predict on the testing data using the selected features and evaluate the model\n",
    "y_pred = logreg_selected.predict(X_test_scaled[:, list(sfs.k_feature_idx_)])\n",
    "accuracy = accuracy_score(y_test, y_pred)\n",
    "print(f\"Accuracy score on the testing data: {accuracy*100:.2f}%\")\n"
   ]
  },
  {
   "cell_type": "markdown",
   "id": "d3adef2f",
   "metadata": {},
   "source": [
    "### Backward Stepwise Selection"
   ]
  },
  {
   "cell_type": "code",
   "execution_count": 34,
   "id": "cba628a1",
   "metadata": {},
   "outputs": [
    {
     "name": "stderr",
     "output_type": "stream",
     "text": [
      "[Parallel(n_jobs=1)]: Using backend SequentialBackend with 1 concurrent workers.\n",
      "[Parallel(n_jobs=1)]: Done   1 out of   1 | elapsed:    0.0s remaining:    0.0s\n",
      "[Parallel(n_jobs=1)]: Done  13 out of  13 | elapsed:    1.0s finished\n",
      "\n",
      "[2023-05-01 13:30:05] Features: 12/6 -- score: 0.8268690742776102[Parallel(n_jobs=1)]: Using backend SequentialBackend with 1 concurrent workers.\n",
      "[Parallel(n_jobs=1)]: Done   1 out of   1 | elapsed:    0.0s remaining:    0.0s\n",
      "[Parallel(n_jobs=1)]: Done  12 out of  12 | elapsed:    0.9s finished\n",
      "\n",
      "[2023-05-01 13:30:06] Features: 11/6 -- score: 0.8280098523718435[Parallel(n_jobs=1)]: Using backend SequentialBackend with 1 concurrent workers.\n",
      "[Parallel(n_jobs=1)]: Done   1 out of   1 | elapsed:    0.0s remaining:    0.0s\n",
      "[Parallel(n_jobs=1)]: Done  11 out of  11 | elapsed:    0.8s finished\n",
      "\n",
      "[2023-05-01 13:30:07] Features: 10/6 -- score: 0.8282292198923232[Parallel(n_jobs=1)]: Using backend SequentialBackend with 1 concurrent workers.\n",
      "[Parallel(n_jobs=1)]: Done   1 out of   1 | elapsed:    0.0s remaining:    0.0s\n",
      "[Parallel(n_jobs=1)]: Done  10 out of  10 | elapsed:    0.8s finished\n",
      "\n",
      "[2023-05-01 13:30:08] Features: 9/6 -- score: 0.8280536773675768[Parallel(n_jobs=1)]: Using backend SequentialBackend with 1 concurrent workers.\n",
      "[Parallel(n_jobs=1)]: Done   1 out of   1 | elapsed:    0.0s remaining:    0.0s\n",
      "[Parallel(n_jobs=1)]: Done   9 out of   9 | elapsed:    0.6s finished\n",
      "\n",
      "[2023-05-01 13:30:09] Features: 8/6 -- score: 0.8283607410779638[Parallel(n_jobs=1)]: Using backend SequentialBackend with 1 concurrent workers.\n",
      "[Parallel(n_jobs=1)]: Done   1 out of   1 | elapsed:    0.0s remaining:    0.0s\n",
      "[Parallel(n_jobs=1)]: Done   8 out of   8 | elapsed:    0.5s finished\n",
      "\n",
      "[2023-05-01 13:30:09] Features: 7/6 -- score: 0.827571019159198[Parallel(n_jobs=1)]: Using backend SequentialBackend with 1 concurrent workers.\n",
      "[Parallel(n_jobs=1)]: Done   1 out of   1 | elapsed:    0.0s remaining:    0.0s\n"
     ]
    },
    {
     "name": "stdout",
     "output_type": "stream",
     "text": [
      "Selected feature indices: (1, 3, 6, 7, 8, 9)\n",
      "Selected feature names: Index(['workclass', 'education.num', 'relationship', 'race', 'sex',\n",
      "       'capital.gain'],\n",
      "      dtype='object')\n",
      "Accuracy:, 82.64919643771113%\n"
     ]
    },
    {
     "name": "stderr",
     "output_type": "stream",
     "text": [
      "[Parallel(n_jobs=1)]: Done   7 out of   7 | elapsed:    0.5s finished\n",
      "\n",
      "[2023-05-01 13:30:10] Features: 6/6 -- score: 0.8313443056708736"
     ]
    }
   ],
   "source": [
    "from mlxtend.feature_selection import SequentialFeatureSelector as SFS\n",
    "from sklearn.linear_model import LogisticRegression\n",
    "from sklearn.metrics import accuracy_score\n",
    "from sklearn.preprocessing import StandardScaler\n",
    "\n",
    "# Standardize the data\n",
    "scaler = StandardScaler()\n",
    "X_train_trans = scaler.fit_transform(X_train)\n",
    "X_test_trans = scaler.fit_transform(X_test)\n",
    "\n",
    "# Initialize the logistic regression model\n",
    "logreg = LogisticRegression()\n",
    "\n",
    "# Use SequentialFeatureSelector to perform backward stepwise selection\n",
    "sfs_backward = SFS(logreg, \n",
    "                   k_features=6, \n",
    "                   forward=False, \n",
    "                   floating=False, \n",
    "                   verbose=2,\n",
    "                   scoring='accuracy',\n",
    "                   cv=3)\n",
    "\n",
    "# Train the sequential feature selector on the training data\n",
    "sfs_backward.fit(X_train_trans, y_train)\n",
    "\n",
    "# Print the selected feature indices and names\n",
    "print(\"Selected feature indices:\", sfs_backward.k_feature_idx_)\n",
    "print(\"Selected feature names:\", X.columns[list(sfs_backward.k_feature_idx_)])\n",
    "\n",
    "# Fit the logistic regression model on the selected features\n",
    "logreg.fit(X_train_trans[:, list(sfs_backward.k_feature_idx_)], y_train)\n",
    "\n",
    "# Predict on the test set and evaluate the model\n",
    "y_pred = logreg.predict(X_test_trans[:, list(sfs_backward.k_feature_idx_)])\n",
    "accuracy = accuracy_score(y_test, y_pred)\n",
    "print(f'Accuracy:, {accuracy*100}%')\n"
   ]
  },
  {
   "cell_type": "markdown",
   "id": "54e6b2b7",
   "metadata": {},
   "source": [
    "In this case, the backward stepwise selection seems to result in a slightly higher accuracy score (82.65%) compared to the forward stepwise selection (82.46%). "
   ]
  },
  {
   "cell_type": "markdown",
   "id": "7f938d71",
   "metadata": {},
   "source": [
    "### Lasso Logistic Regression"
   ]
  },
  {
   "cell_type": "code",
   "execution_count": 35,
   "id": "a782346b",
   "metadata": {},
   "outputs": [
    {
     "name": "stdout",
     "output_type": "stream",
     "text": [
      "Training accuracy: 82.62109512109512\n",
      "Training error (MSE): 0.1737890487890488\n",
      "Testing error (MSE): 0.1788309960077797\n",
      "Accuracy:82.11690039922203%\n"
     ]
    }
   ],
   "source": [
    "log_reg_lasso = LogisticRegression(C = 0.01, penalty= 'l1', solver= 'liblinear',random_state=42)\n",
    "# training the model on the training data\n",
    "log_reg_lasso.fit(X_train, y_train)\n",
    "# making predictions on the training data\n",
    "y_train_pred = log_reg_lasso.predict(X_train)\n",
    "training_accuracy=log_reg_lasso.score(X_train,y_train)\n",
    "print(f\"Training accuracy: {training_accuracy*100}\")\n",
    "# calculating training error\n",
    "train_error = mean_squared_error(y_train, y_train_pred)\n",
    "print(f\"Training error (MSE): {train_error}\")\n",
    "# making predictions on the test data\n",
    "y_test_pred = log_reg_lasso.predict(X_test)\n",
    "# calculating testing error\n",
    "test_error = mean_squared_error(y_test, y_test_pred)\n",
    "print(f\"Testing error (MSE): {test_error}\")\n",
    "# calculating accuracy\n",
    "accuracy = accuracy_score(y_test, y_test_pred)\n",
    "print(f\"Accuracy:{accuracy*100}%\")\n"
   ]
  },
  {
   "cell_type": "markdown",
   "id": "8184ab4b",
   "metadata": {},
   "source": [
    "### Ridge Logistic Regression"
   ]
  },
  {
   "cell_type": "code",
   "execution_count": 36,
   "id": "121ccf32",
   "metadata": {},
   "outputs": [
    {
     "name": "stdout",
     "output_type": "stream",
     "text": [
      "Training accuracy: 82.64303264303264\n",
      "Training error (MSE): 0.17356967356967357\n",
      "Testing error (MSE): 0.17842153751663425\n",
      "Accuracy:82.15784624833657%\n"
     ]
    }
   ],
   "source": [
    "log_reg_ridge = LogisticRegression(C = 0.1, penalty= 'l2', solver= 'saga',random_state=42)\n",
    "# training the model on the training data\n",
    "log_reg_ridge.fit(X_train, y_train)\n",
    "# making predictions on the training data\n",
    "y_train_pred = log_reg_ridge.predict(X_train)\n",
    "training_accuracy=log_reg_ridge.score(X_train,y_train)\n",
    "print(f\"Training accuracy: {training_accuracy*100}\")\n",
    "# calculating training error\n",
    "train_error = mean_squared_error(y_train, y_train_pred)\n",
    "print(f\"Training error (MSE): {train_error}\")\n",
    "# making predictions on the test data\n",
    "y_test_pred = log_reg_ridge.predict(X_test)\n",
    "# calculating testing error\n",
    "test_error = mean_squared_error(y_test, y_test_pred)\n",
    "print(f\"Testing error (MSE): {test_error}\")\n",
    "# calculating accuracy\n",
    "accuracy = accuracy_score(y_test, y_test_pred)\n",
    "print(f\"Accuracy:{accuracy*100}%\")\n"
   ]
  },
  {
   "cell_type": "markdown",
   "id": "4b9e42ed",
   "metadata": {},
   "source": [
    "The logistic regression model that used Ridge regularization achieved an accuracy score of 82.15% on the testing data, which is similar to the accuracy score obtained by the model using Lasso regularization. This suggests that both regularization methods were equally successful in this particular case."
   ]
  },
  {
   "cell_type": "markdown",
   "id": "feb0c524",
   "metadata": {},
   "source": [
    "## <center>4.7 Moving Beyond Linearity</center>"
   ]
  },
  {
   "cell_type": "markdown",
   "id": "58cae698",
   "metadata": {},
   "source": [
    "### Generalized Additive Model"
   ]
  },
  {
   "cell_type": "code",
   "execution_count": 37,
   "id": "99f7b2ea",
   "metadata": {},
   "outputs": [
    {
     "name": "stdout",
     "output_type": "stream",
     "text": [
      "Accuracy:85.67918927218753%\n"
     ]
    }
   ],
   "source": [
    "gam = LogisticGAM().fit(X_train, y_train)\n",
    "# predict on the test set and evaluate the model\n",
    "y_pred = gam.predict(X_test)\n",
    "accuracy = accuracy_score(y_test, y_pred.round())\n",
    "print(f'Accuracy:{accuracy*100}%')"
   ]
  },
  {
   "cell_type": "markdown",
   "id": "43120b7a",
   "metadata": {},
   "source": [
    "### Polynomial Logistic Regression"
   ]
  },
  {
   "cell_type": "code",
   "execution_count": 56,
   "id": "a22fefb6",
   "metadata": {},
   "outputs": [
    {
     "name": "stdout",
     "output_type": "stream",
     "text": [
      "Accuracy: 82.14760978605794%\n"
     ]
    }
   ],
   "source": [
    "poly = PolynomialFeatures(degree=2, include_bias=False)\n",
    "# fit the logistic regression model\n",
    "poly_log_reg = LogisticRegression()\n",
    "poly_log_reg.fit(X_train, y_train)\n",
    "# predict on the test set and evaluate the model\n",
    "y_pred = poly_log_reg.predict(X_test)\n",
    "accuracy = accuracy_score(y_test, y_pred)\n",
    "print(f'Accuracy: {accuracy*100}%')"
   ]
  },
  {
   "cell_type": "markdown",
   "id": "38d7789a",
   "metadata": {},
   "source": [
    "We can infer that the accuracy of the Generalized Additive Models (GAM) model is 85.68% on the test set, which is higher than the accuracy achieved by the logistic regression and polynomial logistic regression models. This suggests that the GAM model may be a better fit for the data and may have captured the non-linear relationships between the features and the target variable more effectively."
   ]
  },
  {
   "cell_type": "markdown",
   "id": "62cfc20a",
   "metadata": {},
   "source": [
    "## <center>Conclusion</center>"
   ]
  },
  {
   "cell_type": "markdown",
   "id": "7a79a9c3",
   "metadata": {},
   "source": [
    "In this project, I compared several methods to analyze and model categorical data. I started by using Z-test and ANOVA to compare means of two samples and race-levels, respectively. I also performed Tukey's test to identify significant differences in group means. Additionally, I used the chi-square test to analyze the association between race and sex in the dataset.\n",
    "\n",
    "For modeling the data, I used logistic regression, linear regression, Forward stepwise selection, Backward stepwise selection  Lasso and Ridge Logistic Regression, and Generalized Additive Models (GAM). I also used resampling methods such as cross-validation and bootstrap to estimate the accuracy of our models.\n",
    "\n",
    "Overall, my analysis showed that the GAM model achieved the highest accuracy of 85.68% on the test set, indicating that this model may be the best fit for the data and have captured the non-linear relationships between the features and the target variable more effectively. Therefore, I recommend using the GAM model for future predictions and analysis of categorical data.\n",
    "\n",
    "In conclusion, this project allowed me to gain experience in analyzing and modeling categorical data using different statistical methods and models. The results of my analysis provide valuable insights and recommendations for future analysis and prediction of categorical data."
   ]
  },
  {
   "cell_type": "markdown",
   "id": "620fd56c",
   "metadata": {},
   "source": [
    "## <center>References</center> "
   ]
  },
  {
   "cell_type": "markdown",
   "id": "783ea87e",
   "metadata": {},
   "source": [
    "https://arxiv.org/ftp/arxiv/papers/1810/1810.10076.pdf\n",
    "\n",
    "https://cseweb.ucsd.edu/classes/sp15/cse190-c/reports/sp15/048.pdf\n",
    "\n",
    "https://sciendo.com/article/10.2478/crebss-2022-0002\n",
    "\n",
    "https://medium.com/data-warriors/eda-of-adult-census-income-dataset-cc9ac1a3d552\n",
    "\n",
    "https://medium.com/analytics-vidhya/adult-census-income-dataset-using-multiple-machine-learning-models-f289c960005d\n"
   ]
  }
 ],
 "metadata": {
  "kernelspec": {
   "display_name": "Python 3",
   "language": "python",
   "name": "python3"
  },
  "language_info": {
   "codemirror_mode": {
    "name": "ipython",
    "version": 3
   },
   "file_extension": ".py",
   "mimetype": "text/x-python",
   "name": "python",
   "nbconvert_exporter": "python",
   "pygments_lexer": "ipython3",
   "version": "3.9.2"
  }
 },
 "nbformat": 4,
 "nbformat_minor": 5
}
